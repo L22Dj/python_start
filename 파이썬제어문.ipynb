{
  "nbformat": 4,
  "nbformat_minor": 0,
  "metadata": {
    "colab": {
      "name": "파이썬제어문.ipynb",
      "provenance": [],
      "collapsed_sections": [],
      "authorship_tag": "ABX9TyOY4XJMNT097/NC0rbS2KlP",
      "include_colab_link": true
    },
    "kernelspec": {
      "name": "python3",
      "display_name": "Python 3"
    }
  },
  "cells": [
    {
      "cell_type": "markdown",
      "metadata": {
        "id": "view-in-github",
        "colab_type": "text"
      },
      "source": [
        "<a href=\"https://colab.research.google.com/github/L22Dj/python_start/blob/main/%ED%8C%8C%EC%9D%B4%EC%8D%AC%EC%A0%9C%EC%96%B4%EB%AC%B8.ipynb\" target=\"_parent\"><img src=\"https://colab.research.google.com/assets/colab-badge.svg\" alt=\"Open In Colab\"/></a>"
      ]
    },
    {
      "cell_type": "code",
      "metadata": {
        "colab": {
          "base_uri": "https://localhost:8080/"
        },
        "id": "-cW2hvrJKKwJ",
        "outputId": "5ccfb923-9268-4603-afcc-9db933474be7"
      },
      "source": [
        "# 2\r\n",
        "food = input('먹고 싶은 음식은 : ')\r\n",
        "print('당신이 입력한 먹고 싶은 음식은' + food + ' 입니다.')\r\n",
        "print('오늘 비가 오네요 우산을 들고가세요!')\r\n",
        "if food == '자장면':\r\n",
        "    print('중국집으로 가요.')\r\n",
        "elif food == '회':\r\n",
        "    print('일식집으로 가요.')\r\n",
        "elif food == '떡볶이':\r\n",
        "    print('분식집으로 가요.')\r\n",
        "elif food == '우동':\r\n",
        "    print('우동집으로 가요.')\r\n",
        "else:\r\n",
        "    print('자장면, 회, 떡볶이, 우동이 아니면 그냥 집에서 먹어요.')"
      ],
      "execution_count": 2,
      "outputs": [
        {
          "output_type": "stream",
          "text": [
            "먹고 싶은 음식은 : 우동\n",
            "당신이 입력한 먹고 싶은 음식은우동 입니다.\n",
            "오늘 비가 오네요 우산을 들고가세요!\n",
            "우동집으로 가요.\n"
          ],
          "name": "stdout"
        }
      ]
    },
    {
      "cell_type": "code",
      "metadata": {
        "colab": {
          "base_uri": "https://localhost:8080/"
        },
        "id": "mxhizsdYcZ_c",
        "outputId": "3bbb41eb-2b31-46c8-dc10-74a509b9d55d"
      },
      "source": [
        "start = 1 #시작값\r\n",
        "while start <= 10: #조건식\r\n",
        "    print(start, ' -> 내가 반복')\r\n",
        "    start += 1 # start = start + 1, 증감식"
      ],
      "execution_count": 6,
      "outputs": [
        {
          "output_type": "stream",
          "text": [
            "1  -> 내가 반복\n",
            "2  -> 내가 반복\n",
            "3  -> 내가 반복\n",
            "4  -> 내가 반복\n",
            "5  -> 내가 반복\n",
            "6  -> 내가 반복\n",
            "7  -> 내가 반복\n",
            "8  -> 내가 반복\n",
            "9  -> 내가 반복\n",
            "10  -> 내가 반복\n"
          ],
          "name": "stdout"
        }
      ]
    },
    {
      "cell_type": "code",
      "metadata": {
        "colab": {
          "base_uri": "https://localhost:8080/"
        },
        "id": "wKI0nl1Qe-nH",
        "outputId": "df411850-5e16-4f0f-e71d-b073da02d25f"
      },
      "source": [
        "start = 0\r\n",
        "while start < 10:\r\n",
        "    print(start, ' -> 내가 반복')\r\n",
        "    start += 1 # start = start + 1"
      ],
      "execution_count": 7,
      "outputs": [
        {
          "output_type": "stream",
          "text": [
            "0  -> 내가 반복\n",
            "1  -> 내가 반복\n",
            "2  -> 내가 반복\n",
            "3  -> 내가 반복\n",
            "4  -> 내가 반복\n",
            "5  -> 내가 반복\n",
            "6  -> 내가 반복\n",
            "7  -> 내가 반복\n",
            "8  -> 내가 반복\n",
            "9  -> 내가 반복\n"
          ],
          "name": "stdout"
        }
      ]
    },
    {
      "cell_type": "code",
      "metadata": {
        "colab": {
          "base_uri": "https://localhost:8080/"
        },
        "id": "eqBfyMSyfnzD",
        "outputId": "1f80b9f2-6a35-4fe3-b69b-63421b637218"
      },
      "source": [
        "start = 0\r\n",
        "while start < 10:\r\n",
        "    start += 1 # start = start + 1\r\n",
        "    print(start, ' -> 내가 반복')"
      ],
      "execution_count": 8,
      "outputs": [
        {
          "output_type": "stream",
          "text": [
            "1  -> 내가 반복\n",
            "2  -> 내가 반복\n",
            "3  -> 내가 반복\n",
            "4  -> 내가 반복\n",
            "5  -> 내가 반복\n",
            "6  -> 내가 반복\n",
            "7  -> 내가 반복\n",
            "8  -> 내가 반복\n",
            "9  -> 내가 반복\n",
            "10  -> 내가 반복\n"
          ],
          "name": "stdout"
        }
      ]
    },
    {
      "cell_type": "code",
      "metadata": {
        "colab": {
          "base_uri": "https://localhost:8080/"
        },
        "id": "WLfendedj_91",
        "outputId": "da84633d-9e35-47c9-e271-e09df194689a"
      },
      "source": [
        "for _ in range(0,10): #변수 설정을 하지 않을 경우 _ 로 채워 넣어준다.\r\n",
        "    print('나도 반복')"
      ],
      "execution_count": 18,
      "outputs": [
        {
          "output_type": "stream",
          "text": [
            "나도 반복\n",
            "나도 반복\n",
            "나도 반복\n",
            "나도 반복\n",
            "나도 반복\n",
            "나도 반복\n",
            "나도 반복\n",
            "나도 반복\n",
            "나도 반복\n",
            "나도 반복\n"
          ],
          "name": "stdout"
        }
      ]
    },
    {
      "cell_type": "code",
      "metadata": {
        "colab": {
          "base_uri": "https://localhost:8080/"
        },
        "id": "FllVj3Yajff0",
        "outputId": "b72e5c32-c8e0-45c3-c242-2c3a6d7ac2ea"
      },
      "source": [
        "for i in range(0,10): # 0~9, default : 1씩 증가\r\n",
        "    print(i)"
      ],
      "execution_count": 15,
      "outputs": [
        {
          "output_type": "stream",
          "text": [
            "0\n",
            "1\n",
            "2\n",
            "3\n",
            "4\n",
            "5\n",
            "6\n",
            "7\n",
            "8\n",
            "9\n"
          ],
          "name": "stdout"
        }
      ]
    },
    {
      "cell_type": "code",
      "metadata": {
        "colab": {
          "base_uri": "https://localhost:8080/"
        },
        "id": "RyXk21FekXDr",
        "outputId": "f5910361-d799-41cb-bfa3-1b6be0812bdc"
      },
      "source": [
        "for i in range(11):\r\n",
        "    print(i)"
      ],
      "execution_count": 19,
      "outputs": [
        {
          "output_type": "stream",
          "text": [
            "0\n",
            "1\n",
            "2\n",
            "3\n",
            "4\n",
            "5\n",
            "6\n",
            "7\n",
            "8\n",
            "9\n",
            "10\n"
          ],
          "name": "stdout"
        }
      ]
    },
    {
      "cell_type": "code",
      "metadata": {
        "colab": {
          "base_uri": "https://localhost:8080/"
        },
        "id": "DMGynf2vj4Lb",
        "outputId": "789f1983-cce7-4731-c63d-3d117209676e"
      },
      "source": [
        "for i in range(0,10,2): # 0~9, default : 1씩 증가\r\n",
        "    print(i)"
      ],
      "execution_count": 16,
      "outputs": [
        {
          "output_type": "stream",
          "text": [
            "0\n",
            "2\n",
            "4\n",
            "6\n",
            "8\n"
          ],
          "name": "stdout"
        }
      ]
    },
    {
      "cell_type": "code",
      "metadata": {
        "colab": {
          "base_uri": "https://localhost:8080/"
        },
        "id": "LbtGIqG9fsnu",
        "outputId": "3a2de74c-fa0a-4547-b8b8-0b61aa488133"
      },
      "source": [
        "sum = 0\r\n",
        "for i in range(0,10):\r\n",
        "    sum += i\r\n",
        "    print(sum)"
      ],
      "execution_count": 12,
      "outputs": [
        {
          "output_type": "stream",
          "text": [
            "0\n",
            "1\n",
            "3\n",
            "6\n",
            "10\n",
            "15\n",
            "21\n",
            "28\n",
            "36\n",
            "45\n"
          ],
          "name": "stdout"
        }
      ]
    },
    {
      "cell_type": "code",
      "metadata": {
        "colab": {
          "base_uri": "https://localhost:8080/"
        },
        "id": "mWAVs-6SjQV8",
        "outputId": "300e242d-f59e-4ab5-b927-6a69f4ff420d"
      },
      "source": [
        "#1\r\n",
        "time = int(input('현재 시간을 입력하세요 : '))\r\n",
        "if time <= 11:\r\n",
        "    print('굿 모닝')\r\n",
        "elif 11 < time <= 15:\r\n",
        "    print('굿 애프터눈')\r\n",
        "elif 15 < time <= 20:\r\n",
        "    print('굿 이브닝')\r\n",
        "else:\r\n",
        "    print('굿 나잇')"
      ],
      "execution_count": 24,
      "outputs": [
        {
          "output_type": "stream",
          "text": [
            "현재 시간을 입력하세요 : 14\n",
            "굿 애프터눈\n"
          ],
          "name": "stdout"
        }
      ]
    },
    {
      "cell_type": "code",
      "metadata": {
        "colab": {
          "base_uri": "https://localhost:8080/"
        },
        "id": "l2rz-T7slfRQ",
        "outputId": "2584f5d9-bf2c-4746-ff46-e177afb52491"
      },
      "source": [
        "month = int(input('이번달은 몇 월인가요? '))\r\n",
        "if 3 <= month < 6:\r\n",
        "    print(month,'월은 봄입니다.')\r\n",
        "elif 6 <= month < 9:\r\n",
        "    print(month,'월은 여름입니다.')\r\n",
        "elif 9 <= month < 12:\r\n",
        "    print(month,'월은 가을입니다.')\r\n",
        "else:\r\n",
        "    print(month,'월은 겨울입니다.')"
      ],
      "execution_count": 29,
      "outputs": [
        {
          "output_type": "stream",
          "text": [
            "이번달은 몇 월인가요? 1\n",
            "1 월은 겨울입니다.\n"
          ],
          "name": "stdout"
        }
      ]
    },
    {
      "cell_type": "code",
      "metadata": {
        "id": "rSqVccNMmQGI"
      },
      "source": [
        "food = list(input('음식을 입력하세요'))"
      ],
      "execution_count": null,
      "outputs": []
    }
  ]
}